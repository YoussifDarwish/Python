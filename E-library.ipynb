{
 "cells": [
  {
   "cell_type": "code",
   "execution_count": 1,
   "id": "112a9ba4",
   "metadata": {},
   "outputs": [],
   "source": [
    "class books:\n",
    "    \n",
    "    def __init__(self, name, writer, price, details):\n",
    "        \n",
    "        self.name = name\n",
    "        self.writer = writer\n",
    "        self.price = price\n",
    "        self.details = details\n",
    "class library:\n",
    "    def __init__(self):\n",
    "        self.Books = []\n",
    "        self.returned_books = []\n",
    "        \n",
    "    def add_book(self, name, writer, price, details):\n",
    "        Book = books(name, writer, price, details)\n",
    "        self.Books.append(Book)\n",
    "        print(\"book added successfully!!\")\n",
    "        \n",
    "    def remove_book(self, name, writer, price, details):\n",
    "        Book = books(name, writer, price, details)\n",
    "        self.Books.remove(Book)\n",
    "        print(\"book doesn't exist\")\n",
    "            \n",
    "    def loan_book(self):\n",
    "        if self.name == name:\n",
    "            self.writer = writer\n",
    "            self.price = price\n",
    "            self.details = details\n",
    "            self.Books.remove(name,writer,price,details)\n",
    "            return\n",
    "        print(\"book doesn't exist\")\n",
    "    \n",
    "    def return_book(self):\n",
    "        \n",
    "        name = input(\" book name: \")\n",
    "        self.returned_books.append(name)\n",
    "        \n",
    "        \n",
    "    \n",
    "    def display(self):\n",
    "        for book in self.Books:\n",
    "            print(f\"Book: {Book.name}, Writer: {Book.writer}, Price: {Book.price}, Details: {Book.details}\")\n",
    "            \n",
    "    def menu(self):\n",
    "        print(\"1: Home\")\n",
    "        print(\"2: loan book\")\n",
    "        print(\"3: return book\")\n",
    "        print(\"4: exit\")\n",
    "        print(\"5: admin\")\n",
    "        \n",
    "    def admin(self):  #open admins version to add/remove books\n",
    "        while True:\n",
    "            print(\"options:\")\n",
    "            print(\"1: add book\")\n",
    "            print(\"2: remove book\")\n",
    "            print(\"3: exit\")\n",
    "            option = input(\"option: \")\n",
    "            \n",
    "            if option == \"3\":\n",
    "                print(\"thank you for using our app!\")\n",
    "                break\n",
    "                \n",
    "            elif option == \"1\":\n",
    "                name = input(\"name: \")\n",
    "                writer = input(\"writer: \")\n",
    "                price = input(\"price: \")\n",
    "                details = input(\"details: \")\n",
    "                self.add_book(name, writer, price, details)\n",
    "                \n",
    "            elif option == \"2\":\n",
    "                name = input(\"book name: \")\n",
    "                if self.name == name:\n",
    "                    self.writer = writer\n",
    "                    self.price = price\n",
    "                    self.details= details\n",
    "                    self.remove_book()\n",
    "                    \n",
    "    def run(self): #users' app\n",
    "        while True:\n",
    "            self.menu()\n",
    "            option = input(\"option: \")\n",
    "            if option == \"4\":\n",
    "                print(\"Thank you for using our app!\")\n",
    "                break\n",
    "                \n",
    "            elif option == \"1\":\n",
    "                self.display()\n",
    "                \n",
    "            elif option == \"2\":\n",
    "                name = input(\"book name: \")\n",
    "                self.loan()\n",
    "                \n",
    "            elif option == \"3\":\n",
    "                name = input(\"name\")\n",
    "            \n",
    "            elif option == \"5\":\n",
    "                self.admin()\n",
    "                \n",
    "                \n",
    "                    \n",
    "                \n",
    "                \n",
    "            "
   ]
  },
  {
   "cell_type": "code",
   "execution_count": null,
   "id": "58dd9b7e",
   "metadata": {},
   "outputs": [
    {
     "name": "stdout",
     "output_type": "stream",
     "text": [
      "1: Home\n",
      "2: loan book\n",
      "3: return book\n",
      "4: exit\n",
      "5: admin\n"
     ]
    }
   ],
   "source": [
    "library().run()\n"
   ]
  },
  {
   "cell_type": "code",
   "execution_count": null,
   "id": "29a59af8",
   "metadata": {},
   "outputs": [],
   "source": [
    "app.run()"
   ]
  },
  {
   "cell_type": "code",
   "execution_count": null,
   "id": "aa31a6e9",
   "metadata": {},
   "outputs": [],
   "source": [
    "admins = library()"
   ]
  },
  {
   "cell_type": "code",
   "execution_count": null,
   "id": "ce79ddcf",
   "metadata": {},
   "outputs": [],
   "source": [
    "admins.admin()"
   ]
  },
  {
   "cell_type": "code",
   "execution_count": null,
   "id": "5389b061",
   "metadata": {},
   "outputs": [],
   "source": []
  },
  {
   "cell_type": "code",
   "execution_count": null,
   "id": "fd7f3544",
   "metadata": {},
   "outputs": [],
   "source": []
  },
  {
   "cell_type": "code",
   "execution_count": null,
   "id": "ed81d1a8",
   "metadata": {},
   "outputs": [],
   "source": []
  },
  {
   "cell_type": "code",
   "execution_count": null,
   "id": "19c67724",
   "metadata": {},
   "outputs": [],
   "source": []
  },
  {
   "cell_type": "code",
   "execution_count": null,
   "id": "afca120a",
   "metadata": {},
   "outputs": [],
   "source": []
  },
  {
   "cell_type": "code",
   "execution_count": null,
   "id": "015e92ce",
   "metadata": {},
   "outputs": [],
   "source": []
  }
 ],
 "metadata": {
  "kernelspec": {
   "display_name": "Python 3 (ipykernel)",
   "language": "python",
   "name": "python3"
  },
  "language_info": {
   "codemirror_mode": {
    "name": "ipython",
    "version": 3
   },
   "file_extension": ".py",
   "mimetype": "text/x-python",
   "name": "python",
   "nbconvert_exporter": "python",
   "pygments_lexer": "ipython3",
   "version": "3.10.9"
  }
 },
 "nbformat": 4,
 "nbformat_minor": 5
}

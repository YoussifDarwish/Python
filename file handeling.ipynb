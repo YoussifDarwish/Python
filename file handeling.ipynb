{
 "cells": [
  {
   "cell_type": "code",
   "execution_count": 94,
   "id": "6caa4650",
   "metadata": {},
   "outputs": [],
   "source": [
    "#1. Write a Python program to read an entire text file.\n",
    "def read_file(file):\n",
    "    f= open(file,\"r\")\n",
    "    print(f.readlines())\n",
    "    \n",
    "#or\n",
    "\n",
    "def readfile(file):\n",
    "    with open (file,\"r\") as f:\n",
    "        for line in f:\n",
    "            print(line)"
   ]
  },
  {
   "cell_type": "code",
   "execution_count": 95,
   "id": "eeeb59ba",
   "metadata": {},
   "outputs": [
    {
     "name": "stdout",
     "output_type": "stream",
     "text": [
      "['What is Python language?                                                \\n', 'Python is a widely used high-level, general-purpose, interpreted, dynamic programming language.Its design philosophy emphasizes code \\n', 'readability, and its syntax allows programmers to express concepts in fewer lines of code than possible in \\n', 'languages such as C++ or Java. \\n', 'Python supports multiple programming paradigms, including object-oriented, imperative and functional programming or procedural styles. It \\n', 'features a dynamic type system and automatic memory management and has a large and comprehensive standard library.The best way we learn \\n', 'anything is by practice and exercise questions. We  have started this section for those (beginner to intermediate) who are familiar with \\n', 'Python.']\n"
     ]
    }
   ],
   "source": [
    "read_file(\"python.txt\")"
   ]
  },
  {
   "cell_type": "code",
   "execution_count": 96,
   "id": "aca40fb0",
   "metadata": {},
   "outputs": [
    {
     "name": "stdout",
     "output_type": "stream",
     "text": [
      "What is Python language?                                                \n",
      "\n",
      "Python is a widely used high-level, general-purpose, interpreted, dynamic programming language.Its design philosophy emphasizes code \n",
      "\n",
      "readability, and its syntax allows programmers to express concepts in fewer lines of code than possible in \n",
      "\n",
      "languages such as C++ or Java. \n",
      "\n",
      "Python supports multiple programming paradigms, including object-oriented, imperative and functional programming or procedural styles. It \n",
      "\n",
      "features a dynamic type system and automatic memory management and has a large and comprehensive standard library.The best way we learn \n",
      "\n",
      "anything is by practice and exercise questions. We  have started this section for those (beginner to intermediate) who are familiar with \n",
      "\n",
      "Python.\n"
     ]
    }
   ],
   "source": [
    "readfile(\"python.txt\")"
   ]
  },
  {
   "cell_type": "code",
   "execution_count": 97,
   "id": "976d91c8",
   "metadata": {},
   "outputs": [],
   "source": [
    "#2. Write a Python program to read the first n lines of a file.\n",
    "def read_firstlines(file):\n",
    "    f= open(file,\"r\")\n",
    "    n = int(input(\"enter number of lines! \"))\n",
    "    x=1\n",
    "    for lines in f:\n",
    "        print(lines)\n",
    "        x+=1\n",
    "        if x>n:\n",
    "            print(\"operation done!\")\n",
    "            break"
   ]
  },
  {
   "cell_type": "code",
   "execution_count": 100,
   "id": "1d2984fa",
   "metadata": {},
   "outputs": [
    {
     "name": "stdout",
     "output_type": "stream",
     "text": [
      "enter number of lines! 3\n",
      "What is Python language?                                                \n",
      "\n",
      "Python is a widely used high-level, general-purpose, interpreted, dynamic programming language.Its design philosophy emphasizes code \n",
      "\n",
      "readability, and its syntax allows programmers to express concepts in fewer lines of code than possible in \n",
      "\n",
      "operation done!\n"
     ]
    }
   ],
   "source": [
    "read_firstlines(\"python.txt\")\n"
   ]
  },
  {
   "cell_type": "code",
   "execution_count": 103,
   "id": "6b0efa5f",
   "metadata": {},
   "outputs": [],
   "source": [
    "#3. Write a Python program to read the last n lines of a file.\n",
    "\n",
    "def read_lastlines(file):\n",
    "    #this will print the last n of lines\n",
    "    f = open(file,\"r\")\n",
    "    n = int(input(\"enter number of lines: \")) #nu,ber of lines to print\n",
    "    for line in (f.readlines()[-n:]):\n",
    "        print(line)"
   ]
  },
  {
   "cell_type": "code",
   "execution_count": 104,
   "id": "686ee686",
   "metadata": {},
   "outputs": [
    {
     "name": "stdout",
     "output_type": "stream",
     "text": [
      "enter number of lines: 3\n",
      "features a dynamic type system and automatic memory management and has a large and comprehensive standard library.The best way we learn \n",
      "\n",
      "anything is by practice and exercise questions. We  have started this section for those (beginner to intermediate) who are familiar with \n",
      "\n",
      "Python.\n"
     ]
    }
   ],
   "source": [
    "read_lastlines(\"python.txt\")\n"
   ]
  },
  {
   "cell_type": "code",
   "execution_count": 105,
   "id": "8a47eadc",
   "metadata": {},
   "outputs": [],
   "source": [
    "def word_count(file):\n",
    "    with open(file) as f:\n",
    "        g = 0\n",
    "        for line in f:\n",
    "            for word in line.split():\n",
    "                g+=1\n",
    "        print(g)\n",
    "            "
   ]
  },
  {
   "cell_type": "code",
   "execution_count": 106,
   "id": "f71fc6fc",
   "metadata": {},
   "outputs": [
    {
     "name": "stdout",
     "output_type": "stream",
     "text": [
      "100\n"
     ]
    }
   ],
   "source": [
    "word_count(\"python.txt\")"
   ]
  },
  {
   "cell_type": "code",
   "execution_count": null,
   "id": "ab4ede83",
   "metadata": {},
   "outputs": [],
   "source": []
  }
 ],
 "metadata": {
  "kernelspec": {
   "display_name": "Python 3 (ipykernel)",
   "language": "python",
   "name": "python3"
  },
  "language_info": {
   "codemirror_mode": {
    "name": "ipython",
    "version": 3
   },
   "file_extension": ".py",
   "mimetype": "text/x-python",
   "name": "python",
   "nbconvert_exporter": "python",
   "pygments_lexer": "ipython3",
   "version": "3.10.9"
  }
 },
 "nbformat": 4,
 "nbformat_minor": 5
}

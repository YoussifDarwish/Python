{
 "cells": [
  {
   "cell_type": "code",
   "execution_count": 34,
   "id": "69ae29f4",
   "metadata": {},
   "outputs": [],
   "source": [
    "import numpy as np"
   ]
  },
  {
   "cell_type": "code",
   "execution_count": 51,
   "id": "63aa88f2",
   "metadata": {},
   "outputs": [],
   "source": [
    "def grades_calc():\n",
    "    while True:\n",
    "        students = int(input(\"enter number of students please! \"))\n",
    "        subjects = int(input(\"enter number of subjects please! \"))\n",
    "        grade_list = np.zeros((students,subjects))\n",
    "        for i in range(students):\n",
    "            print(f\"student no.{i+1}\")\n",
    "            for j in range(subjects):\n",
    "                grade_list[i][j] = float(input(f\"enter grade for subject{j+1} \"))\n",
    "        \n",
    "        total_marks = np.sum(grade_list, axis=1)\n",
    "        percentage = (total_marks/(subjects*100))*100\n",
    "        for i in range(students):\n",
    "            print(f\"grade of student no. {i+1}\")\n",
    "            if percentage>= 90:\n",
    "            \n",
    "                print(\"A+\")\n",
    "            \n",
    "            \n",
    "            elif percentage>= 80:\n",
    "            \n",
    "                print(\"A\")\n",
    "            \n",
    "            \n",
    "            elif percentage >= 70:\n",
    "            \n",
    "                print(\"B+\")\n",
    "            \n",
    "            \n",
    "            elif percentage >= 60:\n",
    "            \n",
    "                print(\"B\")\n",
    "            \n",
    "            \n",
    "            elif percentage >= 50:\n",
    "            \n",
    "                print(\"C\")\n",
    "            \n",
    "            elif percentage < 50:\n",
    "                print(\"F\")\n",
    "        \n",
    "        break"
   ]
  },
  {
   "cell_type": "code",
   "execution_count": 52,
   "id": "8c87d353",
   "metadata": {},
   "outputs": [
    {
     "name": "stdout",
     "output_type": "stream",
     "text": [
      "enter number of students please! 2\n",
      "enter number of subjects please! 3\n",
      "student no.1\n",
      "enter grade for subject1 12\n",
      "enter grade for subject2 31\n",
      "enter grade for subject3 341\n",
      "student no.2\n",
      "enter grade for subject1 43\n",
      "enter grade for subject2 54\n",
      "enter grade for subject3 2\n",
      "grade of student no. 1\n"
     ]
    },
    {
     "ename": "ValueError",
     "evalue": "The truth value of an array with more than one element is ambiguous. Use a.any() or a.all()",
     "output_type": "error",
     "traceback": [
      "\u001b[1;31m---------------------------------------------------------------------------\u001b[0m",
      "\u001b[1;31mValueError\u001b[0m                                Traceback (most recent call last)",
      "Cell \u001b[1;32mIn[52], line 1\u001b[0m\n\u001b[1;32m----> 1\u001b[0m \u001b[43mgrades_calc\u001b[49m\u001b[43m(\u001b[49m\u001b[43m)\u001b[49m\n",
      "Cell \u001b[1;32mIn[51], line 15\u001b[0m, in \u001b[0;36mgrades_calc\u001b[1;34m()\u001b[0m\n\u001b[0;32m     13\u001b[0m \u001b[38;5;28;01mfor\u001b[39;00m i \u001b[38;5;129;01min\u001b[39;00m \u001b[38;5;28mrange\u001b[39m(students):\n\u001b[0;32m     14\u001b[0m     \u001b[38;5;28mprint\u001b[39m(\u001b[38;5;124mf\u001b[39m\u001b[38;5;124m\"\u001b[39m\u001b[38;5;124mgrade of student no. \u001b[39m\u001b[38;5;132;01m{\u001b[39;00mi\u001b[38;5;241m+\u001b[39m\u001b[38;5;241m1\u001b[39m\u001b[38;5;132;01m}\u001b[39;00m\u001b[38;5;124m\"\u001b[39m)\n\u001b[1;32m---> 15\u001b[0m     \u001b[38;5;28;01mif\u001b[39;00m \u001b[43mpercentage\u001b[49m\u001b[38;5;241;43m>\u001b[39;49m\u001b[38;5;241;43m=\u001b[39;49m\u001b[43m \u001b[49m\u001b[38;5;241;43m90\u001b[39;49m:\n\u001b[0;32m     17\u001b[0m         \u001b[38;5;28mprint\u001b[39m(\u001b[38;5;124m\"\u001b[39m\u001b[38;5;124mA+\u001b[39m\u001b[38;5;124m\"\u001b[39m)\n\u001b[0;32m     20\u001b[0m     \u001b[38;5;28;01melif\u001b[39;00m percentage\u001b[38;5;241m>\u001b[39m\u001b[38;5;241m=\u001b[39m \u001b[38;5;241m80\u001b[39m:\n",
      "\u001b[1;31mValueError\u001b[0m: The truth value of an array with more than one element is ambiguous. Use a.any() or a.all()"
     ]
    }
   ],
   "source": [
    "grades_calc()\n"
   ]
  },
  {
   "cell_type": "code",
   "execution_count": 48,
   "id": "4312220a",
   "metadata": {},
   "outputs": [],
   "source": [
    "import numpy as np\n",
    "def grades():\n",
    "    students = int(input(\"Enter the number of students: \"))\n",
    "    subjects = int(input(\"Enter the number of subjects: \"))\n",
    "    \n",
    "    grade_list = np.zeros((students, subjects))\n",
    "    \n",
    "    for i in range(students):\n",
    "        print(f\"\\nStudent No. {i+1}:\")\n",
    "        for j in range(subjects):\n",
    "            grade_list[i][j] = float(input(f\"Enter the grade for Subject {j+1}: \"))\n",
    "    \n",
    "    total_marks = np.sum(grade_list, axis=1)\n",
    "    percentage = (total_marks / (subjects * 100)) * 100\n",
    "    \n",
    "    for i in range(students):\n",
    "        print(f\"\\nStudent No. {i+1} Grade:\")\n",
    "        if percentage[i] >= 90:\n",
    "            print(\"A+\")\n",
    "        elif percentage[i] >= 80:\n",
    "            print(\"A\")\n",
    "        elif percentage[i] >= 70:\n",
    "            print(\"B+\")\n",
    "        elif percentage[i] >= 60:\n",
    "            print(\"B\")\n",
    "        elif percentage[i] >= 50:\n",
    "            print(\"C\")\n",
    "        else:\n",
    "            print(\"F\")\n",
    "    "
   ]
  },
  {
   "cell_type": "code",
   "execution_count": 49,
   "id": "56e9dee5",
   "metadata": {},
   "outputs": [
    {
     "name": "stdout",
     "output_type": "stream",
     "text": [
      "Enter the number of students: 2\n",
      "Enter the number of subjects: 3\n",
      "\n",
      "Student No. 1:\n",
      "Enter the grade for Subject 1: 13\n",
      "Enter the grade for Subject 2: 13\n",
      "Enter the grade for Subject 3: 14\n",
      "\n",
      "Student No. 2:\n",
      "Enter the grade for Subject 1: 453\n",
      "Enter the grade for Subject 2: 34\n",
      "Enter the grade for Subject 3: 51\n",
      "\n",
      "Student No. 1 Grade:\n",
      "F\n",
      "\n",
      "Student No. 2 Grade:\n",
      "A+\n"
     ]
    }
   ],
   "source": [
    "grades()"
   ]
  },
  {
   "cell_type": "code",
   "execution_count": null,
   "id": "e60b0095",
   "metadata": {},
   "outputs": [],
   "source": []
  }
 ],
 "metadata": {
  "kernelspec": {
   "display_name": "Python 3 (ipykernel)",
   "language": "python",
   "name": "python3"
  },
  "language_info": {
   "codemirror_mode": {
    "name": "ipython",
    "version": 3
   },
   "file_extension": ".py",
   "mimetype": "text/x-python",
   "name": "python",
   "nbconvert_exporter": "python",
   "pygments_lexer": "ipython3",
   "version": "3.10.9"
  }
 },
 "nbformat": 4,
 "nbformat_minor": 5
}

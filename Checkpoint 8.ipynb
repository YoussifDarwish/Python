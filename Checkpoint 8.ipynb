{
 "cells": [
  {
   "cell_type": "code",
   "execution_count": 1,
   "id": "6152a6c3",
   "metadata": {},
   "outputs": [],
   "source": [
    "# 1 binary search\n",
    "\n",
    "def binary(arr,target):\n",
    "    begin_ind = 0\n",
    "    end_ind = len(arr)-1\n",
    "    mid = len(arr)//2\n",
    "    \n",
    "    while begin_ind <= end_ind:\n",
    "        \n",
    "        if target not in arr:\n",
    "            return \"target not found\"\n",
    "        \n",
    "        elif arr[mid] == target:\n",
    "            return f\"{target} was found at index {mid}\"\n",
    "        elif arr[mid] > target:\n",
    "            end_ind =  mid-1\n",
    "            mid-=1\n",
    "            print(\"working\")\n",
    "        elif arr[mid] < target:\n",
    "            end_ind =  mid+1\n",
    "            mid+=1\n",
    "            print(\"working\")\n",
    "    "
   ]
  },
  {
   "cell_type": "code",
   "execution_count": 2,
   "id": "fed35ef0",
   "metadata": {},
   "outputs": [],
   "source": [
    "ls = [1,2,3,4,5,6,7]"
   ]
  },
  {
   "cell_type": "code",
   "execution_count": 3,
   "id": "16dbfa43",
   "metadata": {},
   "outputs": [
    {
     "name": "stdout",
     "output_type": "stream",
     "text": [
      "working\n",
      "working\n",
      "working\n"
     ]
    },
    {
     "data": {
      "text/plain": [
       "'1 was found at index 0'"
      ]
     },
     "execution_count": 3,
     "metadata": {},
     "output_type": "execute_result"
    }
   ],
   "source": [
    "binary(ls, 1)\n"
   ]
  },
  {
   "cell_type": "code",
   "execution_count": 4,
   "id": "9c695b2c",
   "metadata": {},
   "outputs": [
    {
     "name": "stdout",
     "output_type": "stream",
     "text": [
      "working\n",
      "working\n",
      "working\n"
     ]
    },
    {
     "data": {
      "text/plain": [
       "'7 was found at index 6'"
      ]
     },
     "execution_count": 4,
     "metadata": {},
     "output_type": "execute_result"
    }
   ],
   "source": [
    "binary(ls, 7)"
   ]
  },
  {
   "cell_type": "code",
   "execution_count": 5,
   "id": "06c7f084",
   "metadata": {},
   "outputs": [
    {
     "data": {
      "text/plain": [
       "'target not found'"
      ]
     },
     "execution_count": 5,
     "metadata": {},
     "output_type": "execute_result"
    }
   ],
   "source": [
    "binary(ls, 10)"
   ]
  },
  {
   "cell_type": "code",
   "execution_count": 6,
   "id": "93c0393a",
   "metadata": {},
   "outputs": [],
   "source": [
    "#2. Write a Python program to calculate the value of 'a' to the power 'b'.\n",
    "def power(a,b):\n",
    "    return a**b"
   ]
  },
  {
   "cell_type": "code",
   "execution_count": 7,
   "id": "2713a223",
   "metadata": {},
   "outputs": [
    {
     "data": {
      "text/plain": [
       "81"
      ]
     },
     "execution_count": 7,
     "metadata": {},
     "output_type": "execute_result"
    }
   ],
   "source": [
    "power(3,4)"
   ]
  },
  {
   "cell_type": "code",
   "execution_count": 77,
   "id": "df95242c",
   "metadata": {},
   "outputs": [],
   "source": [
    "# 3. Write a Python program to sort a list of elements using the bubble sort algorithm.\n",
    "def bubble(arr):\n",
    "    index = len(arr)-1\n",
    "    sort = False\n",
    "    while not sort:\n",
    "        sort = True\n",
    "        for i in range(index):\n",
    "            if arr[i] > arr[i+1]:\n",
    "                sort = False\n",
    "                arr[i], arr[i+1]= arr[i+1], arr[i]\n",
    "    return arr"
   ]
  },
  {
   "cell_type": "code",
   "execution_count": 78,
   "id": "8e432dd4",
   "metadata": {},
   "outputs": [],
   "source": [
    "ls = [29,13,22,37,52,49,46,71,56]"
   ]
  },
  {
   "cell_type": "code",
   "execution_count": 79,
   "id": "122de101",
   "metadata": {},
   "outputs": [
    {
     "data": {
      "text/plain": [
       "[13, 22, 29, 37, 46, 49, 52, 56, 71]"
      ]
     },
     "execution_count": 79,
     "metadata": {},
     "output_type": "execute_result"
    }
   ],
   "source": [
    "bubble(ls)"
   ]
  },
  {
   "cell_type": "code",
   "execution_count": 114,
   "id": "31d22f80",
   "metadata": {},
   "outputs": [],
   "source": [
    "# 4. Write a Python program to sort a list of elements using the merge sort algorithm.\n",
    "\n",
    "def merge_sort(arr):\n",
    "    if len(arr) > 1:\n",
    "        mid = len(arr)//2\n",
    "        left_side = arr[:mid]\n",
    "        right_side = arr[mid:]\n",
    "    \n",
    "        merge_sort(left_side)\n",
    "        merge_sort(right_side)\n",
    "        \n",
    "        i = 0\n",
    "        j = 0\n",
    "        k = 0\n",
    "        \n",
    "        while i < len(left_side) and j < len(right_side):\n",
    "            if left_side[i] < right_side[j]:\n",
    "                arr[k] = left_side[i]\n",
    "                i+=1\n",
    "            else:\n",
    "                arr[k] = right_side[j]\n",
    "                j+=1\n",
    "            k+=1\n",
    "            \n",
    "        while i < len(left_side):\n",
    "            arr[k] = left_side[i]\n",
    "            i+=1\n",
    "            k+=1\n",
    "        \n",
    "        while j < len(right_side):\n",
    "            arr[k] = right_side[j]\n",
    "            j+=1\n",
    "            k+=1\n",
    "    return arr"
   ]
  },
  {
   "cell_type": "code",
   "execution_count": 115,
   "id": "5fdc1e1f",
   "metadata": {},
   "outputs": [
    {
     "data": {
      "text/plain": [
       "[13, 22, 29, 37, 46, 49, 52, 56, 71]"
      ]
     },
     "execution_count": 115,
     "metadata": {},
     "output_type": "execute_result"
    }
   ],
   "source": [
    "ls = [29,13,22,37,52,49,46,71,56]\n",
    "merge_sort(ls)"
   ]
  },
  {
   "cell_type": "code",
   "execution_count": null,
   "id": "f11e70b8",
   "metadata": {},
   "outputs": [],
   "source": [
    "# 5. Write a Python program to sort a list of elements using the quick sort algorithm.\n",
    "def quicksort(arr):\n",
    "    pivot = arr[len(arr)-1]\n",
    "    left = 0\n",
    "    right = len(arr)-2\n",
    "    \n",
    "    "
   ]
  },
  {
   "cell_type": "code",
   "execution_count": 1,
   "id": "3c163302",
   "metadata": {},
   "outputs": [],
   "source": [
    "def partition(array, start, end):\n",
    "    pivot = array[start]\n",
    "    low = start + 1\n",
    "    high = end\n",
    "    while True:\n",
    "        # If the current value we're looking at is larger than the pivot\n",
    "        # it's in the right place (right side of pivot) and we can move left,\n",
    "        # to the next element.\n",
    "        # We also need to make sure we haven't surpassed the low pointer, since that\n",
    "        # indicates we have already moved all the elements to their correct side of the pivot\n",
    "        while low <= high and array[high] >= pivot:\n",
    "            high = high - 1\n",
    "\n",
    "        # Opposite process of the one above\n",
    "        while low <= high and array[low] <= pivot:\n",
    "            low = low + 1\n",
    "\n",
    "        # We either found a value for both high and low that is out of order\n",
    "        # or low is higher than high, in which case we exit the loop\n",
    "        if low <= high:\n",
    "            array[low], array[high] = array[high], array[low]\n",
    "            # The loop continues\n",
    "        else:\n",
    "            # We exit out of the loop\n",
    "            break\n",
    "\n",
    "    array[start], array[high] = array[high], array[start]\n",
    "\n",
    "    return high\n",
    "def quick_sort(array, start, end):\n",
    "    if start >= end:\n",
    "        return"
   ]
  },
  {
   "cell_type": "code",
   "execution_count": null,
   "id": "680e6db4",
   "metadata": {},
   "outputs": [],
   "source": []
  }
 ],
 "metadata": {
  "kernelspec": {
   "display_name": "Python 3 (ipykernel)",
   "language": "python",
   "name": "python3"
  },
  "language_info": {
   "codemirror_mode": {
    "name": "ipython",
    "version": 3
   },
   "file_extension": ".py",
   "mimetype": "text/x-python",
   "name": "python",
   "nbconvert_exporter": "python",
   "pygments_lexer": "ipython3",
   "version": "3.10.9"
  }
 },
 "nbformat": 4,
 "nbformat_minor": 5
}

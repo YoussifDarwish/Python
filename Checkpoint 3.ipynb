{
 "cells": [
  {
   "cell_type": "code",
   "execution_count": 55,
   "id": "feb1b024",
   "metadata": {},
   "outputs": [],
   "source": [
    "#Question 1\n",
    "def list_multiplier(a,b=1,c=1,d=1,e=1,f=1,g=1,h=1):\n",
    "    my_list=[a,b,c,d,e,f,g,h]\n",
    "    result = 1\n",
    "    i = 0\n",
    "    while i < len(my_list):\n",
    "        result = result*my_list[i]\n",
    "        i=i+1\n",
    "    return result"
   ]
  },
  {
   "cell_type": "code",
   "execution_count": 5,
   "id": "699f4e27",
   "metadata": {},
   "outputs": [],
   "source": [
    "#Question1= 1\n",
    "def list_multiplier(a,b=1,c=1,d=1,e=1,f=1,g=1,h=1):\n",
    "    my_list=[a,b,c,d,e,f,g,h]\n",
    "    result = 1\n",
    "    for i in my_list:\n",
    "        result = result*i\n",
    "    return result"
   ]
  },
  {
   "cell_type": "code",
   "execution_count": 7,
   "id": "1a4db45b",
   "metadata": {},
   "outputs": [
    {
     "data": {
      "text/plain": [
       "120"
      ]
     },
     "execution_count": 7,
     "metadata": {},
     "output_type": "execute_result"
    }
   ],
   "source": [
    "list_multiplier(1,2,3,4,5)"
   ]
  },
  {
   "cell_type": "code",
   "execution_count": 9,
   "id": "572d6355",
   "metadata": {},
   "outputs": [],
   "source": [
    "#Question 2\n",
    "sample_list = [(2, 5), (1, 2), (4, 4), (2, 3), (2, 1)]\n",
    "\n",
    "second_num = lambda x : x[1]\n",
    "\n",
    "sample_list.sort(key=second_num)"
   ]
  },
  {
   "cell_type": "code",
   "execution_count": 10,
   "id": "bc1715ce",
   "metadata": {},
   "outputs": [
    {
     "data": {
      "text/plain": [
       "[(2, 1), (1, 2), (2, 3), (4, 4), (2, 5)]"
      ]
     },
     "execution_count": 10,
     "metadata": {},
     "output_type": "execute_result"
    }
   ],
   "source": [
    "sample_list"
   ]
  },
  {
   "cell_type": "code",
   "execution_count": 21,
   "id": "3ed37b74",
   "metadata": {},
   "outputs": [
    {
     "name": "stdout",
     "output_type": "stream",
     "text": [
      "a 100\n",
      "b 200\n",
      "c 300\n"
     ]
    }
   ],
   "source": [
    " for x,y in d1.items():\n",
    "        print(x,y)"
   ]
  },
  {
   "cell_type": "code",
   "execution_count": 40,
   "id": "c9c4644d",
   "metadata": {},
   "outputs": [],
   "source": [
    "#Question 3\n",
    "d1 = {'a': 100, 'b': 200, 'c':300}\n",
    "\n",
    "d2 = {'a': 300, 'b': 200, 'd':400}\n",
    "d3 = {}\n",
    "\n",
    "for key in d1:\n",
    "    if key in d2:\n",
    "        d3[key] = d1[key] +d2[key]\n",
    "    \n",
    "   \n",
    "            \n",
    "    "
   ]
  },
  {
   "cell_type": "code",
   "execution_count": 42,
   "id": "b697dfe6",
   "metadata": {},
   "outputs": [
    {
     "name": "stdout",
     "output_type": "stream",
     "text": [
      "{'a': 400, 'b': 400}\n"
     ]
    }
   ],
   "source": [
    "print(d3)"
   ]
  },
  {
   "cell_type": "code",
   "execution_count": null,
   "id": "14fd7268",
   "metadata": {},
   "outputs": [],
   "source": [
    "\n",
    "\n"
   ]
  },
  {
   "cell_type": "code",
   "execution_count": 51,
   "id": "419b72f6",
   "metadata": {},
   "outputs": [],
   "source": [
    "#Question 4\n",
    "\n",
    "\n",
    "def integral():\n",
    "    x = int(input(\"give a number\"))\n",
    "    integral = range(1,x+1)\n",
    "    result = 1\n",
    "    dic = {}\n",
    "    for i in integral:\n",
    "        result = i*i\n",
    "        dic[i] = result\n",
    "    return dic\n",
    "        \n",
    "    "
   ]
  },
  {
   "cell_type": "code",
   "execution_count": 52,
   "id": "51a7831b",
   "metadata": {},
   "outputs": [
    {
     "name": "stdout",
     "output_type": "stream",
     "text": [
      "give a number8\n"
     ]
    },
    {
     "data": {
      "text/plain": [
       "{1: 1, 2: 4, 3: 9, 4: 16, 5: 25, 6: 36, 7: 49, 8: 64}"
      ]
     },
     "execution_count": 52,
     "metadata": {},
     "output_type": "execute_result"
    }
   ],
   "source": [
    "integral()"
   ]
  },
  {
   "cell_type": "code",
   "execution_count": 60,
   "id": "163e3c88",
   "metadata": {},
   "outputs": [],
   "source": [
    "#Question 5\n",
    "\n",
    "ls= [('item1', '12.20'), ('item2', '15.10'), ('item3', '24.5')]\n",
    "def sortbyfloat(x):\n",
    "    sortbyfloat = lambda x: x[1]\n",
    "    ls.sort(reverse=True,key=sortbyfloat)\n",
    "    print(ls)\n",
    "\n"
   ]
  },
  {
   "cell_type": "code",
   "execution_count": 61,
   "id": "a49da25a",
   "metadata": {},
   "outputs": [
    {
     "name": "stdout",
     "output_type": "stream",
     "text": [
      "[('item3', '24.5'), ('item2', '15.10'), ('item1', '12.20')]\n"
     ]
    }
   ],
   "source": [
    "sortbyfloat(ls)"
   ]
  },
  {
   "cell_type": "code",
   "execution_count": 64,
   "id": "276c9344",
   "metadata": {},
   "outputs": [],
   "source": [
    "#Question 6\n",
    "\n",
    "def createset():\n",
    "    x = input(\"create a set \")\n",
    "    return set(x)\n",
    "\n",
    "def iteration(y):\n",
    "    for i in y:\n",
    "        print(i)\n",
    "    return\n",
    "\n",
    "def add(y):\n",
    "    y.add(input(\"add: \"))\n",
    "    return set(y) \n",
    "\n",
    "def remove(y):\n",
    "    y.remove(input(\"remove: \"))\n",
    "    retir"
   ]
  },
  {
   "cell_type": "code",
   "execution_count": 54,
   "id": "89e20193",
   "metadata": {},
   "outputs": [
    {
     "name": "stdout",
     "output_type": "stream",
     "text": [
      "create a set 123456\n",
      "{'5', '6', '4', '1', '2', '3'}\n"
     ]
    }
   ],
   "source": [
    "a =  createset()\n",
    "print(a)"
   ]
  },
  {
   "cell_type": "code",
   "execution_count": 55,
   "id": "778ecb5c",
   "metadata": {},
   "outputs": [
    {
     "name": "stdout",
     "output_type": "stream",
     "text": [
      "5\n",
      "6\n",
      "4\n",
      "1\n",
      "2\n",
      "3\n"
     ]
    }
   ],
   "source": [
    "iteration(a)"
   ]
  },
  {
   "cell_type": "code",
   "execution_count": 65,
   "id": "adfdb71a",
   "metadata": {},
   "outputs": [
    {
     "name": "stdout",
     "output_type": "stream",
     "text": [
      "remove: 9\n"
     ]
    }
   ],
   "source": [
    "remove(a)"
   ]
  },
  {
   "cell_type": "code",
   "execution_count": null,
   "id": "89af82f5",
   "metadata": {},
   "outputs": [],
   "source": []
  }
 ],
 "metadata": {
  "kernelspec": {
   "display_name": "Python 3 (ipykernel)",
   "language": "python",
   "name": "python3"
  },
  "language_info": {
   "codemirror_mode": {
    "name": "ipython",
    "version": 3
   },
   "file_extension": ".py",
   "mimetype": "text/x-python",
   "name": "python",
   "nbconvert_exporter": "python",
   "pygments_lexer": "ipython3",
   "version": "3.10.9"
  }
 },
 "nbformat": 4,
 "nbformat_minor": 5
}

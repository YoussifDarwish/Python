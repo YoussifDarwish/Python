{
 "cells": [
  {
   "cell_type": "code",
   "execution_count": 1,
   "id": "50f76a74",
   "metadata": {},
   "outputs": [],
   "source": [
    "import random as rd #to import the random library\n",
    "import time"
   ]
  },
  {
   "cell_type": "code",
   "execution_count": null,
   "id": "f63c6c1e",
   "metadata": {},
   "outputs": [
    {
     "name": "stdout",
     "output_type": "stream",
     "text": [
      "start game?\n",
      "options: start       close\n",
      "choose and option close\n"
     ]
    }
   ],
   "source": [
    "number = rd.randint(1,100)\n",
    "print(\"start game?\")\n",
    "print(\"options: start       close\")\n",
    "options = input(\"choose and option \")\n",
    "\"\"\"to generate the number \n",
    "that should be guessed\"\"\"\n",
    "guess = int(input(\"guess a number! \"))\n",
    "\n",
    "\n",
    "while  options == \"start\" or options == \"YES\": \n",
    "  \n",
    "    if guess > 100:\n",
    "        print(\"guess between 1 adn 100 dummy!\")\n",
    "        guess = int(input(\"try again \"))\n",
    "    elif guess > number:\n",
    "        print(\"number is too high!\")\n",
    "        guess = int(input(\"try again \"))\n",
    "    elif guess < number:\n",
    "        print(\"number is too low!\")\n",
    "        guess = int(input(\"try again \"))\n",
    "    elif guess == number:\n",
    "        print(\"Congrats, you guessed correctly!\")\n",
    "        \n",
    "   \n",
    "        \n",
    "        \n",
    "        "
   ]
  },
  {
   "cell_type": "code",
   "execution_count": null,
   "id": "3674e16f",
   "metadata": {},
   "outputs": [],
   "source": []
  }
 ],
 "metadata": {
  "kernelspec": {
   "display_name": "Python 3 (ipykernel)",
   "language": "python",
   "name": "python3"
  },
  "language_info": {
   "codemirror_mode": {
    "name": "ipython",
    "version": 3
   },
   "file_extension": ".py",
   "mimetype": "text/x-python",
   "name": "python",
   "nbconvert_exporter": "python",
   "pygments_lexer": "ipython3",
   "version": "3.10.9"
  }
 },
 "nbformat": 4,
 "nbformat_minor": 5
}

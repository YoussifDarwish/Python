{
 "cells": [
  {
   "cell_type": "code",
   "execution_count": 1,
   "id": "c0abf250",
   "metadata": {},
   "outputs": [
    {
     "data": {
      "text/plain": [
       "967"
      ]
     },
     "execution_count": 1,
     "metadata": {},
     "output_type": "execute_result"
    }
   ],
   "source": [
    "mylist=[14, \"hello\", 967]\n",
    "#mylist[6]\n",
    "#IndexError: list index out of range\n",
    "#index is outside the index range inside the list\n",
    "mylist[2]"
   ]
  },
  {
   "cell_type": "code",
   "execution_count": 5,
   "id": "4d42cdb9",
   "metadata": {},
   "outputs": [],
   "source": [
    "#import Pandas\n",
    "#import NumPy\n",
    "#ImportError: No module named Pandas\n",
    "# the library is not installed or doesnt exist (here is because pandas and numpy are written in capital)\n",
    "#use pip install to download first\n",
    "import pandas\n",
    "import numpy"
   ]
  },
  {
   "cell_type": "code",
   "execution_count": 6,
   "id": "a73aa669",
   "metadata": {},
   "outputs": [
    {
     "name": "stdout",
     "output_type": "stream",
     "text": [
      "bla bla\n"
     ]
    }
   ],
   "source": [
    "#Print\"python errors\"\n",
    "#SyntaxError: invalid syntax\n",
    "#syntax written incorrectly\n",
    "print(\"bla bla\")"
   ]
  },
  {
   "cell_type": "code",
   "execution_count": 7,
   "id": "ccbb6ed4",
   "metadata": {},
   "outputs": [
    {
     "data": {
      "text/plain": [
       "'hello'"
      ]
     },
     "execution_count": 7,
     "metadata": {},
     "output_type": "execute_result"
    }
   ],
   "source": [
    "mydictionnary={True:\"hello\",False:\"bye\", '3':\"python\"}\n",
    "#mydictionnary['True']\n",
    "#KeyError: 'True'\n",
    "\"\"\"this key doesn't exist inside the dictionary\n",
    "    True is written as a bool but whaen called was\n",
    "    written as a string this is why it gave an error\n",
    "    \"\"\"\n",
    "mydictionnary[True]"
   ]
  },
  {
   "cell_type": "code",
   "execution_count": 8,
   "id": "77cb1407",
   "metadata": {},
   "outputs": [
    {
     "name": "stdout",
     "output_type": "stream",
     "text": [
      "14\n",
      "15\n",
      "16\n",
      "17\n",
      "18\n",
      "19\n",
      "20\n",
      "21\n",
      "22\n",
      "23\n",
      "24\n",
      "25\n",
      "26\n",
      "27\n",
      "28\n",
      "29\n",
      "30\n",
      "31\n",
      "32\n",
      "33\n",
      "34\n",
      "35\n",
      "36\n",
      "37\n",
      "38\n",
      "39\n",
      "40\n",
      "41\n",
      "42\n",
      "43\n",
      "44\n",
      "45\n",
      "46\n",
      "47\n",
      "48\n",
      "49\n",
      "50\n",
      "51\n",
      "52\n",
      "53\n",
      "54\n",
      "55\n",
      "56\n",
      "57\n",
      "58\n",
      "59\n",
      "60\n",
      "61\n",
      "62\n",
      "63\n",
      "64\n",
      "65\n",
      "66\n",
      "67\n",
      "68\n",
      "69\n",
      "70\n",
      "71\n",
      "72\n",
      "73\n",
      "74\n",
      "75\n",
      "76\n",
      "77\n"
     ]
    }
   ],
   "source": [
    "\"\"\"i=14\n",
    "while i<78:\n",
    "print(i)\n",
    "i+=1\n",
    "IndentationError: expected an indented block\n",
    "there is no indentation after the while loop so it gave an error\n",
    "\"\"\"\n",
    "\n",
    "i=14\n",
    "while i<78:\n",
    "    print(i)\n",
    "    i+=1\n",
    "    "
   ]
  },
  {
   "cell_type": "code",
   "execution_count": 12,
   "id": "155e71f0",
   "metadata": {},
   "outputs": [
    {
     "name": "stdout",
     "output_type": "stream",
     "text": [
      "1\n",
      "2\n",
      "3\n"
     ]
    }
   ],
   "source": [
    "\"\"\"\n",
    "it=iter([1,2,3])\n",
    "next(it)\n",
    "next(it)\n",
    "next(it)\n",
    "next(it)\n",
    "StopIteration: \n",
    "this error occaures whis the next function when the iteration is finished but the function gets called again\n",
    "the next function should be called to a max of the index range\n",
    "\"\"\"\n",
    "it=iter([1,2,3])\n",
    "print(next(it))\n",
    "print(next(it))\n",
    "print(next(it))\n",
    "\n"
   ]
  },
  {
   "cell_type": "code",
   "execution_count": 13,
   "id": "3e3a2b22",
   "metadata": {},
   "outputs": [
    {
     "name": "stdout",
     "output_type": "stream",
     "text": [
      "1515\n",
      "30\n"
     ]
    }
   ],
   "source": [
    "#'15'+15\n",
    "#TypeError: cannot concatenate 'str' and 'int' objects\n",
    "#the function or operation used cant be applied on this data type\n",
    "print(\"15\"+\"15\")\n",
    "#or\n",
    "print(15+15)"
   ]
  },
  {
   "cell_type": "code",
   "execution_count": 14,
   "id": "9e6aebfa",
   "metadata": {},
   "outputs": [
    {
     "data": {
      "text/plain": [
       "1243"
      ]
     },
     "execution_count": 14,
     "metadata": {},
     "output_type": "execute_result"
    }
   ],
   "source": [
    "#int('python')\n",
    "#ValueError: invalid literal for int() with base 10: 'python'\n",
    "#characters can't be switched to int only numbers\n",
    "int(\"1243\")"
   ]
  },
  {
   "cell_type": "code",
   "execution_count": 16,
   "id": "6ca28636",
   "metadata": {},
   "outputs": [
    {
     "data": {
      "text/plain": [
       "'hello world'"
      ]
     },
     "execution_count": 16,
     "metadata": {},
     "output_type": "execute_result"
    }
   ],
   "source": [
    "#python\n",
    "#NameError: name 'python' is not defined\n",
    "#the variable that we called was not assigned before.\n",
    "python = \"hello world\"\n",
    "python"
   ]
  },
  {
   "cell_type": "code",
   "execution_count": 19,
   "id": "0379a9b5",
   "metadata": {},
   "outputs": [
    {
     "data": {
      "text/plain": [
       "6.333333333333333"
      ]
     },
     "execution_count": 19,
     "metadata": {},
     "output_type": "execute_result"
    }
   ],
   "source": [
    "#x=19/0\n",
    "#ZeroDivisionError: integer division or modulo by zero\n",
    "#you can't divide anything by zero\n",
    "x = 19/3\n",
    "x"
   ]
  },
  {
   "cell_type": "code",
   "execution_count": null,
   "id": "9d773ab7",
   "metadata": {},
   "outputs": [],
   "source": []
  }
 ],
 "metadata": {
  "kernelspec": {
   "display_name": "Python 3 (ipykernel)",
   "language": "python",
   "name": "python3"
  },
  "language_info": {
   "codemirror_mode": {
    "name": "ipython",
    "version": 3
   },
   "file_extension": ".py",
   "mimetype": "text/x-python",
   "name": "python",
   "nbconvert_exporter": "python",
   "pygments_lexer": "ipython3",
   "version": "3.10.9"
  }
 },
 "nbformat": 4,
 "nbformat_minor": 5
}

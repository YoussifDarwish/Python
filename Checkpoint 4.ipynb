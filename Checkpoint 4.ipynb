{
 "cells": [
  {
   "cell_type": "code",
   "execution_count": 45,
   "id": "ffd95c2f",
   "metadata": {},
   "outputs": [],
   "source": [
    "\n",
    "class Point3D: #3D dimensions\n",
    "    def __init__(self,x=None,y=None,z=None):\n",
    "        self.x=x\n",
    "        self.y=y\n",
    "        self.z=z\n",
    "        \n",
    "    def xyz(self,x,y,z):\n",
    "        threeD = print(f\"x: {x}, y: {y}, z: {z}\")\n",
    "        return threeD"
   ]
  },
  {
   "cell_type": "code",
   "execution_count": 46,
   "id": "7949874e",
   "metadata": {},
   "outputs": [
    {
     "name": "stdout",
     "output_type": "stream",
     "text": [
      "x: 1, y: 2, z: 3\n"
     ]
    }
   ],
   "source": [
    "dimensions = Point3D()\n",
    "my_point = dimensions.xyz(1,2,3)\n",
    "my_point"
   ]
  },
  {
   "cell_type": "code",
   "execution_count": 47,
   "id": "93f29cfd",
   "metadata": {},
   "outputs": [],
   "source": [
    "class Rect: #calculate are and perimeter\n",
    "    def __init__(self,ln=None,wd=None):\n",
    "        self.ln = ln\n",
    "        self.wd = wd\n",
    "    \n",
    "    def area(self,ln,wd):\n",
    "        result = ln*wd\n",
    "        area= print(f\"Area of rectange: {ln}*{wd} = {result}\")\n",
    "        return area\n",
    "    \n",
    "    def perimeter(self,ln,wd):\n",
    "        result = (ln+wd)*2\n",
    "        per = print(f\"Per. of rectangle: ({ln}+{wd})*2 = {result}\")\n",
    "        return per"
   ]
  },
  {
   "cell_type": "code",
   "execution_count": 48,
   "id": "78405e2c",
   "metadata": {},
   "outputs": [
    {
     "name": "stdout",
     "output_type": "stream",
     "text": [
      "Area of rectange: 3*4 = 12\n",
      "Per. of rectangle: (3+4)*2 = 14\n"
     ]
    }
   ],
   "source": [
    "rect = Rect()\n",
    "rect.area(3,4)\n",
    "rect.perimeter(3,4)"
   ]
  },
  {
   "cell_type": "code",
   "execution_count": 49,
   "id": "a6865f29",
   "metadata": {},
   "outputs": [],
   "source": [
    "import numpy as np\n",
    "pi = np.pi\n",
    "class Circle:\n",
    "    def __init__(self, r = None,  x = None, y = None, h = None, k = None):\n",
    "    \n",
    "        \"\"\"\n",
    "    r = radius of the circle\n",
    "    x= x coordinate of the point\n",
    "    y = y coordinate of the point\n",
    "    h= x coordinate of center point\n",
    "    k = y coordinate of center point\n",
    "    \n",
    "     \"\"\"\n",
    "        self.r = r\n",
    "        self.x = x\n",
    "        self.y = y\n",
    "        self.h = h\n",
    "        self.k = k\n",
    "        \n",
    "    def area(self, r): \n",
    "        \"\"\" one should enter the radius as a length\n",
    "        and not as coordinate points\"\"\"\n",
    "        area = pi*r**2\n",
    "        result = print(f\"area of circle: pi*{r}**2 = {area}\")\n",
    "        return result\n",
    "    \n",
    "    def circumference(self, r):\n",
    "        \"\"\" one should enter the radius as a length\n",
    "        and not as coordinate points\"\"\"\n",
    "        circ = 2*pi*r\n",
    "        result = print(f\"circ. of circle = 2*pi*{r} = {circ}\")\n",
    "        return result\n",
    "    \n",
    "    def inside(self,r,x,y,h,k): \n",
    "        \n",
    "        #d = \\sqrt{(x_2 - x_1)^2 + (y_2-y_1)^2}\n",
    "        formula = (x-h)**2 + (y-k)**2\n",
    "        d = np.sqrt(formula) #calculate distace formula\n",
    "        \n",
    "        if d == r:\n",
    "            print(\"coordinates are on the circle\")\n",
    "        \n",
    "        elif d > r:\n",
    "            print(\"Coordinates are outside the circle\")\n",
    "        \n",
    "        elif d < r:\n",
    "            print(\"Coordinates are inside the circle\")\n",
    "            \n",
    "        \"\"\"\n",
    "    r = radius of the circle\n",
    "    x= x coordinate of the point\n",
    "    y = y coordinate of the point\n",
    "    h= x coordinate of center point\n",
    "    k = y coordinate of center point\n",
    "    \n",
    "    ------------------------------------------------------------------------------\"\"\"\n",
    "            \n",
    "        \n",
    "        \n",
    "        \n",
    "    \n",
    "    "
   ]
  },
  {
   "cell_type": "code",
   "execution_count": 50,
   "id": "42c2f900",
   "metadata": {},
   "outputs": [
    {
     "name": "stdout",
     "output_type": "stream",
     "text": [
      "area of circle: pi*5**2 = 78.53981633974483\n",
      "circ. of circle = 2*pi*5 = 31.41592653589793\n",
      "Coordinates are inside the circle\n"
     ]
    }
   ],
   "source": [
    "circle = Circle()\n",
    "circle.area(5)\n",
    "circle.circumference(5)\n",
    "circle.inside(5,10,6,7,7)"
   ]
  },
  {
   "cell_type": "code",
   "execution_count": 1,
   "id": "81e05b44",
   "metadata": {},
   "outputs": [],
   "source": [
    "import os\n",
    "class Bank:\n",
    "    def __init__(self, cash=None, balance=None):\n",
    "        self.cash = cash\n",
    "        self.balance = 0\n",
    "        \n",
    "    def show_balance(self):\n",
    "         print(f\"your balace is: {self.balance}\")\n",
    "        \n",
    "    def deposit(self, cash):\n",
    "        self.balance+=cash\n",
    "        print(\"transaction complete\")\n",
    "       \n",
    "            \n",
    "    def withdraw(self,cash):\n",
    "        if self.balance>=cash:\n",
    "            self.balance-=cash\n",
    "            print(\"transaction complete\")\n",
    "        else:\n",
    "            print(\"transaction failed\")\n",
    "        \n",
    "    def startandexit(self):\n",
    "        while True:\n",
    "            question = \"do you want to do any other transactions? please answer with yes , y , no, n \"\n",
    "            continuee = input(question).lower()\n",
    "            if continuee in [\"y\", \"yes\"]:\n",
    "                return True\n",
    "            elif continuee in [\"n\", \"no\"]:\n",
    "                return False\n",
    "            else:\n",
    "                print(\"invalid operation!       Try Again!\")\n",
    "                continuee = input(question).lower()\n",
    "\n",
    "        \n",
    "    def menu(self):\n",
    "        print(\"-\"*10 + \"Hello\" + \"-\"*10)\n",
    "        print(\"choose an option:\")\n",
    "        print(\"1: Show Balance\")\n",
    "        print(\"2: Make a Deposit\")\n",
    "        print(\"3: make a withdrawl\")\n",
    "        print(\"4: exit\")\n",
    "    def run(self):\n",
    "        \n",
    "        start = True\n",
    "        while start:\n",
    "            self.menu()\n",
    "            option = input(\"option: \")\n",
    "            \n",
    "            if option == \"1\":\n",
    "                self.show_balance()\n",
    "                \n",
    "            elif option == \"2\":\n",
    "                cash = float(input(\"Deposit money here! \"))\n",
    "                self.deposit(cash,)\n",
    "                \n",
    "            elif option == \"3\":\n",
    "                cash = float(input(\"Deposit money here! \"))\n",
    "                self.withdraw(cash,)\n",
    "                \n",
    "            \n",
    "            elif option == \"4\":\n",
    "                break\n",
    "                \n",
    "            start = self.startandexit()\n",
    "        print(\"thanks for coming by!\")\n",
    "        exit()\n",
    "            \n",
    "            \n",
    "            \n",
    "        "
   ]
  },
  {
   "cell_type": "code",
   "execution_count": 2,
   "id": "c1b383a9",
   "metadata": {},
   "outputs": [
    {
     "name": "stdout",
     "output_type": "stream",
     "text": [
      "----------Hello----------\n",
      "choose an option:\n",
      "1: Show Balance\n",
      "2: Make a Deposit\n",
      "3: make a withdrawl\n",
      "4: exit\n",
      "option: 1\n",
      "your balace is: 0\n",
      "do you want to do any other transactions? please answer with yes , y , no, n y\n",
      "----------Hello----------\n",
      "choose an option:\n",
      "1: Show Balance\n",
      "2: Make a Deposit\n",
      "3: make a withdrawl\n",
      "4: exit\n",
      "option: 2\n",
      "Deposit money here! 10000\n",
      "transaction complete\n",
      "do you want to do any other transactions? please answer with yes , y , no, n y\n",
      "----------Hello----------\n",
      "choose an option:\n",
      "1: Show Balance\n",
      "2: Make a Deposit\n",
      "3: make a withdrawl\n",
      "4: exit\n",
      "option: 1\n",
      "your balace is: 10000.0\n",
      "do you want to do any other transactions? please answer with yes , y , no, n yes\n",
      "----------Hello----------\n",
      "choose an option:\n",
      "1: Show Balance\n",
      "2: Make a Deposit\n",
      "3: make a withdrawl\n",
      "4: exit\n",
      "option: 3\n",
      "Deposit money here! 15000\n",
      "transaction failed\n",
      "do you want to do any other transactions? please answer with yes , y , no, n y\n",
      "----------Hello----------\n",
      "choose an option:\n",
      "1: Show Balance\n",
      "2: Make a Deposit\n",
      "3: make a withdrawl\n",
      "4: exit\n",
      "option: 1\n",
      "your balace is: 10000.0\n",
      "do you want to do any other transactions? please answer with yes , y , no, n y\n",
      "----------Hello----------\n",
      "choose an option:\n",
      "1: Show Balance\n",
      "2: Make a Deposit\n",
      "3: make a withdrawl\n",
      "4: exit\n",
      "option: 3\n",
      "Deposit money here! 5000\n",
      "transaction complete\n",
      "do you want to do any other transactions? please answer with yes , y , no, n y\n",
      "----------Hello----------\n",
      "choose an option:\n",
      "1: Show Balance\n",
      "2: Make a Deposit\n",
      "3: make a withdrawl\n",
      "4: exit\n",
      "option: 1\n",
      "your balace is: 5000.0\n",
      "do you want to do any other transactions? please answer with yes , y , no, n no\n",
      "thanks for coming by!\n"
     ]
    }
   ],
   "source": [
    "bank = Bank()\n",
    "bank.run()"
   ]
  },
  {
   "cell_type": "code",
   "execution_count": 2,
   "id": "09096f5d",
   "metadata": {},
   "outputs": [],
   "source": []
  },
  {
   "cell_type": "code",
   "execution_count": 12,
   "id": "254e2c56",
   "metadata": {},
   "outputs": [],
   "source": []
  },
  {
   "cell_type": "code",
   "execution_count": null,
   "id": "9db0339f",
   "metadata": {},
   "outputs": [],
   "source": []
  },
  {
   "cell_type": "code",
   "execution_count": 17,
   "id": "b9438ec1",
   "metadata": {},
   "outputs": [],
   "source": [
    "\n"
   ]
  },
  {
   "cell_type": "code",
   "execution_count": null,
   "id": "a6e0f282",
   "metadata": {},
   "outputs": [],
   "source": []
  },
  {
   "cell_type": "code",
   "execution_count": null,
   "id": "ae2d4a44",
   "metadata": {},
   "outputs": [],
   "source": []
  }
 ],
 "metadata": {
  "kernelspec": {
   "display_name": "Python 3 (ipykernel)",
   "language": "python",
   "name": "python3"
  },
  "language_info": {
   "codemirror_mode": {
    "name": "ipython",
    "version": 3
   },
   "file_extension": ".py",
   "mimetype": "text/x-python",
   "name": "python",
   "nbconvert_exporter": "python",
   "pygments_lexer": "ipython3",
   "version": "3.10.9"
  }
 },
 "nbformat": 4,
 "nbformat_minor": 5
}
